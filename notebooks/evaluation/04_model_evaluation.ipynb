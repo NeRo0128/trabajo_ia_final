{
 "cells": [
  {
   "cell_type": "markdown",
   "id": "8affdec8",
   "metadata": {},
   "source": [
    "# Model Evaluation\n",
    "\n",
    "Descripción: …"
   ]
  }
 ],
 "metadata": {},
 "nbformat": 4,
 "nbformat_minor": 5
}
