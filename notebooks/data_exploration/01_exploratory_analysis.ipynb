{
 "cells": [
  {
   "cell_type": "markdown",
   "id": "7e0df197ffd37323",
   "metadata": {
    "collapsed": false
   },
   "source": [
    "# Exploratory Data Analysis\n",
    "\n",
    "**Objetivos**  \n",
    "- Conocer la estructura y dimensiones del dataset.  \n",
    "- Identificar valores faltantes y tipos de datos.  \n",
    "- Visualizar distribuciones univariantes de las variables.  \n",
    "- Explorar relaciones bivariantes (correlaciones, contigencia).\n"
   ]
  },
  {
   "cell_type": "code",
   "execution_count": 1,
   "id": "6ad25bf7502e1064",
   "metadata": {
    "collapsed": false
   },
   "outputs": [],
   "source": [
    "import pandas as pd\n",
    "import matplotlib.pyplot as plt\n"
   ]
  },
  {
   "cell_type": "code",
   "execution_count": 8,
   "id": "4c004abc4b36fda",
   "metadata": {
    "collapsed": false,
    "ExecuteTime": {
     "end_time": "2025-07-14T08:35:02.799636200Z",
     "start_time": "2025-07-14T08:35:02.485458300Z"
    }
   },
   "outputs": [
    {
     "name": "stdout",
     "output_type": "stream",
     "text": [
      "Dimensiones: (119, 24)\n"
     ]
    },
    {
     "data": {
      "text/plain": "   No       Nombre y Apellidos  Edad Sexo                Dirrección  \\\n0   1     Ana E. Lazo Alfonso     84    f                Plácido 22   \n1   2       Enma Salazar Núñez    87    f          9na Ave Norte 19   \n2   3         Ada Suarez Perez    76    f  Calzada Pueblo Nuevo # 7   \n3   4  Elizabeth Denis Machado    77    f          Mariana Grajales   \n4   5   José M Gonzalez Guerra    86    m         Narciso López # 8   \n\n   Municipio                Fecha      Hora Antecedentes Patológicos  \\\n0      Sagua  2023-01-01 00:00:00  16:30:00                      HTA   \n1        Qdo  2018-01-03 00:00:00  16:30:00           Epilepsia, ATI   \n2  Cifuentes  2018-01-03 00:00:00  01:00:00                  HTA, CI   \n3  Cifuentes  2018-01-04 00:00:00  01:00:00                 Demencia   \n4  Cifuentes  2018-01-05 00:00:00  16:00:00                      HTA   \n\n               Causa  ... T med (ºC) Hr med (%)  precipitaciones (mm)  \\\n0  Caida de sus pies  ...       21.0         81                   0.0   \n1  Caida de sus pies  ...       20.0         83                   0.6   \n2  Caida de sus pies  ...       20.0         83                   0.6   \n3  Caida de sus pies  ...       16.7         84                   0.5   \n4  Caida de sus pies  ...       17.9         61                   0.0   \n\n   Pe med (hPa)  tiempo quirúrgico  Tipo de tratamiento  Evolucion al mes  \\\n0        1017.2         30-60 mint        osteosintesis              Bien   \n1        1012.6         30-60 mint        osteosintesis              Bien   \n2        1012.6         30-60 mint        osteosintesis              Bien   \n3        1016.6                NaN           no operado              Bien   \n4        1020.8          60-90 min             protesis              Bien   \n\n   Evolucion a los 3 meses Evolucion a los 6 meses    Complicaciones  \n0                     Bien                    bien                no  \n1                     Bien                     mal  perdida fijación  \n2                     Bien                    bien                no  \n3                     Bien                    bien                no  \n4                     Bien                    bien                no  \n\n[5 rows x 24 columns]",
      "text/html": "<div>\n<style scoped>\n    .dataframe tbody tr th:only-of-type {\n        vertical-align: middle;\n    }\n\n    .dataframe tbody tr th {\n        vertical-align: top;\n    }\n\n    .dataframe thead th {\n        text-align: right;\n    }\n</style>\n<table border=\"1\" class=\"dataframe\">\n  <thead>\n    <tr style=\"text-align: right;\">\n      <th></th>\n      <th>No</th>\n      <th>Nombre y Apellidos</th>\n      <th>Edad</th>\n      <th>Sexo</th>\n      <th>Dirrección</th>\n      <th>Municipio</th>\n      <th>Fecha</th>\n      <th>Hora</th>\n      <th>Antecedentes Patológicos</th>\n      <th>Causa</th>\n      <th>...</th>\n      <th>T med (ºC)</th>\n      <th>Hr med (%)</th>\n      <th>precipitaciones (mm)</th>\n      <th>Pe med (hPa)</th>\n      <th>tiempo quirúrgico</th>\n      <th>Tipo de tratamiento</th>\n      <th>Evolucion al mes</th>\n      <th>Evolucion a los 3 meses</th>\n      <th>Evolucion a los 6 meses</th>\n      <th>Complicaciones</th>\n    </tr>\n  </thead>\n  <tbody>\n    <tr>\n      <th>0</th>\n      <td>1</td>\n      <td>Ana E. Lazo Alfonso</td>\n      <td>84</td>\n      <td>f</td>\n      <td>Plácido 22</td>\n      <td>Sagua</td>\n      <td>2023-01-01 00:00:00</td>\n      <td>16:30:00</td>\n      <td>HTA</td>\n      <td>Caida de sus pies</td>\n      <td>...</td>\n      <td>21.0</td>\n      <td>81</td>\n      <td>0.0</td>\n      <td>1017.2</td>\n      <td>30-60 mint</td>\n      <td>osteosintesis</td>\n      <td>Bien</td>\n      <td>Bien</td>\n      <td>bien</td>\n      <td>no</td>\n    </tr>\n    <tr>\n      <th>1</th>\n      <td>2</td>\n      <td>Enma Salazar Núñez</td>\n      <td>87</td>\n      <td>f</td>\n      <td>9na Ave Norte 19</td>\n      <td>Qdo</td>\n      <td>2018-01-03 00:00:00</td>\n      <td>16:30:00</td>\n      <td>Epilepsia, ATI</td>\n      <td>Caida de sus pies</td>\n      <td>...</td>\n      <td>20.0</td>\n      <td>83</td>\n      <td>0.6</td>\n      <td>1012.6</td>\n      <td>30-60 mint</td>\n      <td>osteosintesis</td>\n      <td>Bien</td>\n      <td>Bien</td>\n      <td>mal</td>\n      <td>perdida fijación</td>\n    </tr>\n    <tr>\n      <th>2</th>\n      <td>3</td>\n      <td>Ada Suarez Perez</td>\n      <td>76</td>\n      <td>f</td>\n      <td>Calzada Pueblo Nuevo # 7</td>\n      <td>Cifuentes</td>\n      <td>2018-01-03 00:00:00</td>\n      <td>01:00:00</td>\n      <td>HTA, CI</td>\n      <td>Caida de sus pies</td>\n      <td>...</td>\n      <td>20.0</td>\n      <td>83</td>\n      <td>0.6</td>\n      <td>1012.6</td>\n      <td>30-60 mint</td>\n      <td>osteosintesis</td>\n      <td>Bien</td>\n      <td>Bien</td>\n      <td>bien</td>\n      <td>no</td>\n    </tr>\n    <tr>\n      <th>3</th>\n      <td>4</td>\n      <td>Elizabeth Denis Machado</td>\n      <td>77</td>\n      <td>f</td>\n      <td>Mariana Grajales</td>\n      <td>Cifuentes</td>\n      <td>2018-01-04 00:00:00</td>\n      <td>01:00:00</td>\n      <td>Demencia</td>\n      <td>Caida de sus pies</td>\n      <td>...</td>\n      <td>16.7</td>\n      <td>84</td>\n      <td>0.5</td>\n      <td>1016.6</td>\n      <td>NaN</td>\n      <td>no operado</td>\n      <td>Bien</td>\n      <td>Bien</td>\n      <td>bien</td>\n      <td>no</td>\n    </tr>\n    <tr>\n      <th>4</th>\n      <td>5</td>\n      <td>José M Gonzalez Guerra</td>\n      <td>86</td>\n      <td>m</td>\n      <td>Narciso López # 8</td>\n      <td>Cifuentes</td>\n      <td>2018-01-05 00:00:00</td>\n      <td>16:00:00</td>\n      <td>HTA</td>\n      <td>Caida de sus pies</td>\n      <td>...</td>\n      <td>17.9</td>\n      <td>61</td>\n      <td>0.0</td>\n      <td>1020.8</td>\n      <td>60-90 min</td>\n      <td>protesis</td>\n      <td>Bien</td>\n      <td>Bien</td>\n      <td>bien</td>\n      <td>no</td>\n    </tr>\n  </tbody>\n</table>\n<p>5 rows × 24 columns</p>\n</div>"
     },
     "metadata": {},
     "output_type": "display_data"
    },
    {
     "name": "stdout",
     "output_type": "stream",
     "text": [
      "<class 'pandas.core.frame.DataFrame'>\n",
      "RangeIndex: 119 entries, 0 to 118\n",
      "Data columns (total 24 columns):\n",
      " #   Column                    Non-Null Count  Dtype  \n",
      "---  ------                    --------------  -----  \n",
      " 0   No                        119 non-null    int64  \n",
      " 1   Nombre y Apellidos        119 non-null    object \n",
      " 2   Edad                      119 non-null    int64  \n",
      " 3   Sexo                      119 non-null    object \n",
      " 4   Dirrección                119 non-null    object \n",
      " 5   Municipio                 119 non-null    object \n",
      " 6   Fecha                     119 non-null    object \n",
      " 7   Hora                      119 non-null    object \n",
      " 8   Antecedentes Patológicos  119 non-null    object \n",
      " 9   Causa                     119 non-null    object \n",
      " 10  Clasificación             119 non-null    object \n",
      " 11  Localización              119 non-null    object \n",
      " 12  T max (ºC)                119 non-null    float64\n",
      " 13  T min (ºC)                119 non-null    float64\n",
      " 14  T med (ºC)                119 non-null    float64\n",
      " 15  Hr med (%)                119 non-null    int64  \n",
      " 16  precipitaciones (mm)      119 non-null    float64\n",
      " 17  Pe med (hPa)              119 non-null    float64\n",
      " 18  tiempo quirúrgico         116 non-null    object \n",
      " 19  Tipo de tratamiento       119 non-null    object \n",
      " 20  Evolucion al mes          119 non-null    object \n",
      " 21  Evolucion a los 3 meses   119 non-null    object \n",
      " 22  Evolucion a los 6 meses   119 non-null    object \n",
      " 23  Complicaciones            119 non-null    object \n",
      "dtypes: float64(5), int64(3), object(16)\n",
      "memory usage: 22.4+ KB\n"
     ]
    },
    {
     "data": {
      "text/plain": "None"
     },
     "metadata": {},
     "output_type": "display_data"
    },
    {
     "data": {
      "text/plain": "                No    Nombre y Apellidos        Edad Sexo Dirrección  \\\ncount   119.000000                   119  119.000000  119        119   \nunique         NaN                   119         NaN    2        111   \ntop            NaN  Ana E. Lazo Alfonso          NaN    f  San Diego   \nfreq           NaN                     1         NaN   85          3   \nmean     60.000000                   NaN   80.764706  NaN        NaN   \nstd      34.496377                   NaN    8.856393  NaN        NaN   \nmin       1.000000                   NaN   53.000000  NaN        NaN   \n25%      30.500000                   NaN   75.000000  NaN        NaN   \n50%      60.000000                   NaN   82.000000  NaN        NaN   \n75%      89.500000                   NaN   87.000000  NaN        NaN   \nmax     119.000000                   NaN  102.000000  NaN        NaN   \n\n        Municipio                Fecha      Hora Antecedentes Patológicos  \\\ncount         119                  119       119                      119   \nunique          5                  100        49                       63   \ntop     Cifuentes  2018-04-18 00:00:00  18:00:00                      HTA   \nfreq           29                    3        10                       24   \nmean          NaN                  NaN       NaN                      NaN   \nstd           NaN                  NaN       NaN                      NaN   \nmin           NaN                  NaN       NaN                      NaN   \n25%           NaN                  NaN       NaN                      NaN   \n50%           NaN                  NaN       NaN                      NaN   \n75%           NaN                  NaN       NaN                      NaN   \nmax           NaN                  NaN       NaN                      NaN   \n\n                    Causa  ...  T med (ºC)  Hr med (%)  precipitaciones (mm)  \\\ncount                 119  ...  119.000000  119.000000            119.000000   \nunique                 12  ...         NaN         NaN                   NaN   \ntop     Caida de sus pies  ...         NaN         NaN                   NaN   \nfreq                  103  ...         NaN         NaN                   NaN   \nmean                  NaN  ...   24.972269   77.714286              4.273950   \nstd                   NaN  ...    2.747138    6.276325             15.666998   \nmin                   NaN  ...   16.700000   58.000000              0.000000   \n25%                   NaN  ...   23.300000   74.000000              0.000000   \n50%                   NaN  ...   25.300000   78.000000              0.000000   \n75%                   NaN  ...   27.200000   82.000000              0.850000   \nmax                   NaN  ...   28.900000   95.000000            115.300000   \n\n        Pe med (hPa)  tiempo quirúrgico  Tipo de tratamiento  \\\ncount     119.000000                116                  119   \nunique           NaN                  5                    6   \ntop              NaN         30-60 mint        osteosintesis   \nfreq             NaN                 73                   67   \nmean     1015.370588                NaN                  NaN   \nstd         2.394887                NaN                  NaN   \nmin      1010.000000                NaN                  NaN   \n25%      1013.900000                NaN                  NaN   \n50%      1015.100000                NaN                  NaN   \n75%      1016.700000                NaN                  NaN   \nmax      1021.700000                NaN                  NaN   \n\n        Evolucion al mes  Evolucion a los 3 meses Evolucion a los 6 meses  \\\ncount                119                      119                     119   \nunique                 2                        2                       5   \ntop                 Bien                     Bien                    Bien   \nfreq                 115                      115                      64   \nmean                 NaN                      NaN                     NaN   \nstd                  NaN                      NaN                     NaN   \nmin                  NaN                      NaN                     NaN   \n25%                  NaN                      NaN                     NaN   \n50%                  NaN                      NaN                     NaN   \n75%                  NaN                      NaN                     NaN   \nmax                  NaN                      NaN                     NaN   \n\n       Complicaciones  \ncount             119  \nunique              5  \ntop              Bien  \nfreq               64  \nmean              NaN  \nstd               NaN  \nmin               NaN  \n25%               NaN  \n50%               NaN  \n75%               NaN  \nmax               NaN  \n\n[11 rows x 24 columns]",
      "text/html": "<div>\n<style scoped>\n    .dataframe tbody tr th:only-of-type {\n        vertical-align: middle;\n    }\n\n    .dataframe tbody tr th {\n        vertical-align: top;\n    }\n\n    .dataframe thead th {\n        text-align: right;\n    }\n</style>\n<table border=\"1\" class=\"dataframe\">\n  <thead>\n    <tr style=\"text-align: right;\">\n      <th></th>\n      <th>No</th>\n      <th>Nombre y Apellidos</th>\n      <th>Edad</th>\n      <th>Sexo</th>\n      <th>Dirrección</th>\n      <th>Municipio</th>\n      <th>Fecha</th>\n      <th>Hora</th>\n      <th>Antecedentes Patológicos</th>\n      <th>Causa</th>\n      <th>...</th>\n      <th>T med (ºC)</th>\n      <th>Hr med (%)</th>\n      <th>precipitaciones (mm)</th>\n      <th>Pe med (hPa)</th>\n      <th>tiempo quirúrgico</th>\n      <th>Tipo de tratamiento</th>\n      <th>Evolucion al mes</th>\n      <th>Evolucion a los 3 meses</th>\n      <th>Evolucion a los 6 meses</th>\n      <th>Complicaciones</th>\n    </tr>\n  </thead>\n  <tbody>\n    <tr>\n      <th>count</th>\n      <td>119.000000</td>\n      <td>119</td>\n      <td>119.000000</td>\n      <td>119</td>\n      <td>119</td>\n      <td>119</td>\n      <td>119</td>\n      <td>119</td>\n      <td>119</td>\n      <td>119</td>\n      <td>...</td>\n      <td>119.000000</td>\n      <td>119.000000</td>\n      <td>119.000000</td>\n      <td>119.000000</td>\n      <td>116</td>\n      <td>119</td>\n      <td>119</td>\n      <td>119</td>\n      <td>119</td>\n      <td>119</td>\n    </tr>\n    <tr>\n      <th>unique</th>\n      <td>NaN</td>\n      <td>119</td>\n      <td>NaN</td>\n      <td>2</td>\n      <td>111</td>\n      <td>5</td>\n      <td>100</td>\n      <td>49</td>\n      <td>63</td>\n      <td>12</td>\n      <td>...</td>\n      <td>NaN</td>\n      <td>NaN</td>\n      <td>NaN</td>\n      <td>NaN</td>\n      <td>5</td>\n      <td>6</td>\n      <td>2</td>\n      <td>2</td>\n      <td>5</td>\n      <td>5</td>\n    </tr>\n    <tr>\n      <th>top</th>\n      <td>NaN</td>\n      <td>Ana E. Lazo Alfonso</td>\n      <td>NaN</td>\n      <td>f</td>\n      <td>San Diego</td>\n      <td>Cifuentes</td>\n      <td>2018-04-18 00:00:00</td>\n      <td>18:00:00</td>\n      <td>HTA</td>\n      <td>Caida de sus pies</td>\n      <td>...</td>\n      <td>NaN</td>\n      <td>NaN</td>\n      <td>NaN</td>\n      <td>NaN</td>\n      <td>30-60 mint</td>\n      <td>osteosintesis</td>\n      <td>Bien</td>\n      <td>Bien</td>\n      <td>Bien</td>\n      <td>Bien</td>\n    </tr>\n    <tr>\n      <th>freq</th>\n      <td>NaN</td>\n      <td>1</td>\n      <td>NaN</td>\n      <td>85</td>\n      <td>3</td>\n      <td>29</td>\n      <td>3</td>\n      <td>10</td>\n      <td>24</td>\n      <td>103</td>\n      <td>...</td>\n      <td>NaN</td>\n      <td>NaN</td>\n      <td>NaN</td>\n      <td>NaN</td>\n      <td>73</td>\n      <td>67</td>\n      <td>115</td>\n      <td>115</td>\n      <td>64</td>\n      <td>64</td>\n    </tr>\n    <tr>\n      <th>mean</th>\n      <td>60.000000</td>\n      <td>NaN</td>\n      <td>80.764706</td>\n      <td>NaN</td>\n      <td>NaN</td>\n      <td>NaN</td>\n      <td>NaN</td>\n      <td>NaN</td>\n      <td>NaN</td>\n      <td>NaN</td>\n      <td>...</td>\n      <td>24.972269</td>\n      <td>77.714286</td>\n      <td>4.273950</td>\n      <td>1015.370588</td>\n      <td>NaN</td>\n      <td>NaN</td>\n      <td>NaN</td>\n      <td>NaN</td>\n      <td>NaN</td>\n      <td>NaN</td>\n    </tr>\n    <tr>\n      <th>std</th>\n      <td>34.496377</td>\n      <td>NaN</td>\n      <td>8.856393</td>\n      <td>NaN</td>\n      <td>NaN</td>\n      <td>NaN</td>\n      <td>NaN</td>\n      <td>NaN</td>\n      <td>NaN</td>\n      <td>NaN</td>\n      <td>...</td>\n      <td>2.747138</td>\n      <td>6.276325</td>\n      <td>15.666998</td>\n      <td>2.394887</td>\n      <td>NaN</td>\n      <td>NaN</td>\n      <td>NaN</td>\n      <td>NaN</td>\n      <td>NaN</td>\n      <td>NaN</td>\n    </tr>\n    <tr>\n      <th>min</th>\n      <td>1.000000</td>\n      <td>NaN</td>\n      <td>53.000000</td>\n      <td>NaN</td>\n      <td>NaN</td>\n      <td>NaN</td>\n      <td>NaN</td>\n      <td>NaN</td>\n      <td>NaN</td>\n      <td>NaN</td>\n      <td>...</td>\n      <td>16.700000</td>\n      <td>58.000000</td>\n      <td>0.000000</td>\n      <td>1010.000000</td>\n      <td>NaN</td>\n      <td>NaN</td>\n      <td>NaN</td>\n      <td>NaN</td>\n      <td>NaN</td>\n      <td>NaN</td>\n    </tr>\n    <tr>\n      <th>25%</th>\n      <td>30.500000</td>\n      <td>NaN</td>\n      <td>75.000000</td>\n      <td>NaN</td>\n      <td>NaN</td>\n      <td>NaN</td>\n      <td>NaN</td>\n      <td>NaN</td>\n      <td>NaN</td>\n      <td>NaN</td>\n      <td>...</td>\n      <td>23.300000</td>\n      <td>74.000000</td>\n      <td>0.000000</td>\n      <td>1013.900000</td>\n      <td>NaN</td>\n      <td>NaN</td>\n      <td>NaN</td>\n      <td>NaN</td>\n      <td>NaN</td>\n      <td>NaN</td>\n    </tr>\n    <tr>\n      <th>50%</th>\n      <td>60.000000</td>\n      <td>NaN</td>\n      <td>82.000000</td>\n      <td>NaN</td>\n      <td>NaN</td>\n      <td>NaN</td>\n      <td>NaN</td>\n      <td>NaN</td>\n      <td>NaN</td>\n      <td>NaN</td>\n      <td>...</td>\n      <td>25.300000</td>\n      <td>78.000000</td>\n      <td>0.000000</td>\n      <td>1015.100000</td>\n      <td>NaN</td>\n      <td>NaN</td>\n      <td>NaN</td>\n      <td>NaN</td>\n      <td>NaN</td>\n      <td>NaN</td>\n    </tr>\n    <tr>\n      <th>75%</th>\n      <td>89.500000</td>\n      <td>NaN</td>\n      <td>87.000000</td>\n      <td>NaN</td>\n      <td>NaN</td>\n      <td>NaN</td>\n      <td>NaN</td>\n      <td>NaN</td>\n      <td>NaN</td>\n      <td>NaN</td>\n      <td>...</td>\n      <td>27.200000</td>\n      <td>82.000000</td>\n      <td>0.850000</td>\n      <td>1016.700000</td>\n      <td>NaN</td>\n      <td>NaN</td>\n      <td>NaN</td>\n      <td>NaN</td>\n      <td>NaN</td>\n      <td>NaN</td>\n    </tr>\n    <tr>\n      <th>max</th>\n      <td>119.000000</td>\n      <td>NaN</td>\n      <td>102.000000</td>\n      <td>NaN</td>\n      <td>NaN</td>\n      <td>NaN</td>\n      <td>NaN</td>\n      <td>NaN</td>\n      <td>NaN</td>\n      <td>NaN</td>\n      <td>...</td>\n      <td>28.900000</td>\n      <td>95.000000</td>\n      <td>115.300000</td>\n      <td>1021.700000</td>\n      <td>NaN</td>\n      <td>NaN</td>\n      <td>NaN</td>\n      <td>NaN</td>\n      <td>NaN</td>\n      <td>NaN</td>\n    </tr>\n  </tbody>\n</table>\n<p>11 rows × 24 columns</p>\n</div>"
     },
     "metadata": {},
     "output_type": "display_data"
    }
   ],
   "source": [
    "import yaml\n",
    "with open('../../config/mlp_config.yaml', 'r') as file:\n",
    "    config = yaml.safe_load(file)\n",
    "    \n",
    "df = pd.read_excel(f\"../../{config['data_paths']['raw']}\")\n",
    "print(\"Dimensiones:\", df.shape)\n",
    "display(df.head())\n",
    "display(df.info())\n",
    "display(df.describe(include=\"all\"))\n"
   ]
  },
  {
   "cell_type": "code",
   "execution_count": null,
   "id": "d7e5061c-666b-415a-b447-efa07743443f",
   "metadata": {},
   "outputs": [],
   "source": []
  }
 ],
 "metadata": {
  "kernelspec": {
   "display_name": "Python 3 (ipykernel)",
   "language": "python",
   "name": "python3"
  },
  "language_info": {
   "codemirror_mode": {
    "name": "ipython",
    "version": 3
   },
   "file_extension": ".py",
   "mimetype": "text/x-python",
   "name": "python",
   "nbconvert_exporter": "python",
   "pygments_lexer": "ipython3",
   "version": "3.13.3"
  }
 },
 "nbformat": 4,
 "nbformat_minor": 5
}
