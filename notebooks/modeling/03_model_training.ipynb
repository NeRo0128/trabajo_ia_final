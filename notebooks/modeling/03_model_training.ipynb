{
 "cells": [
  {
   "cell_type": "markdown",
   "id": "ffcc1501",
   "metadata": {},
   "source": [
    "# Model Training\n",
    "\n",
    "Descripción: …"
   ]
  }
 ],
 "metadata": {},
 "nbformat": 4,
 "nbformat_minor": 5
}
