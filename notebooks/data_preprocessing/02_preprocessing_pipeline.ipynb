{
 "cells": [
  {
   "cell_type": "markdown",
   "id": "5a357205",
   "metadata": {},
   "source": [
    "# Preprocessing Pipeline\n",
    "\n",
    "**Objetivos**\n",
    "- Limpiar, transformar y exportar datos listos para modelar.\n",
    "- Separar conjuntos de entrenamiento y prueba.\n",
    "- Aplicar sobremuestreo solo al conjunto de entrenamiento.\n"
   ]
  },
  {
   "cell_type": "code",
   "outputs": [],
   "source": [
    "import pandas as pd\n",
    "from src.data.preprocessing.full_processimg import preprocessed\n",
    "import yaml\n"
   ],
   "metadata": {
    "collapsed": false
   },
   "id": "624564d52eee1c03"
  },
  {
   "cell_type": "code",
   "outputs": [],
   "source": [
    "## Carga de datos y ejecución del preprocesamiento\n",
    "with open('../../config/mlp_config.yaml', 'r') as file:\n",
    "    config = yaml.safe_load(file)\n"
   ],
   "metadata": {
    "collapsed": false
   },
   "id": "448a92b44970a0ca"
  },
  {
   "cell_type": "code",
   "outputs": [],
   "source": [
    "input_path = f\"../../{config['data_paths']['raw']}\"\n",
    "out_path  = f\"../../{config['data_paths']['preprocessed']}\"\n",
    "\n",
    "preprocessed(input_path, out_path)\n"
   ],
   "metadata": {
    "collapsed": false
   },
   "id": "1e19dd6fa9b71cfe"
  },
  {
   "cell_type": "markdown",
   "source": [
    "## Guardado de resultados\n"
   ],
   "metadata": {
    "collapsed": false
   },
   "id": "b41501bd6d27aa3e"
  },
  {
   "cell_type": "code",
   "outputs": [],
   "source": [
    "import os\n",
    "\n",
    "os.makedirs('data/processed', exist_ok=True)\n",
    "\n",
    "X_train.to_pickle('data/processed/X_train.pkl')\n",
    "y_train.to_pickle('data/processed/y_train.pkl')\n",
    "X_test.to_pickle('data/processed/X_test.pkl')\n",
    "y_test.to_pickle('data/processed/y_test.pkl')\n",
    "\n",
    "print('Archivos guardados en data/processed')\n"
   ],
   "metadata": {
    "collapsed": false
   },
   "id": "65055fbdb7270b3b"
  },
  {
   "cell_type": "markdown",
   "source": [
    "## Checks finales\n"
   ],
   "metadata": {
    "collapsed": false
   },
   "id": "d01ee27037b739b4"
  },
  {
   "cell_type": "code",
   "outputs": [],
   "source": [
    "print('Train shape:', X_train.shape)\n",
    "print('Test shape :', X_test.shape)\n",
    "\n",
    "print('Distribución en y_train:')\n",
    "print(y_train.value_counts(normalize=True))\n"
   ],
   "metadata": {
    "collapsed": false
   },
   "id": "40b43a517cd30b0"
  }
 ],
 "metadata": {
  "kernelspec": {
   "name": "python3",
   "language": "python",
   "display_name": "Python 3 (ipykernel)"
  }
 },
 "nbformat": 4,
 "nbformat_minor": 5
}
