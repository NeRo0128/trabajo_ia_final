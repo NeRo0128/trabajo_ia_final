{
 "cells": [
  {
   "cell_type": "code",
   "execution_count": null,
   "id": "0858ab5b-5fcd-425d-a52b-bdae9b0685f0",
   "metadata": {
    "ExecuteTime": {
     "end_time": "2025-07-14T08:12:35.071081400Z",
     "start_time": "2025-07-14T08:12:34.848245Z"
    },
    "collapsed": true,
    "jupyter": {
     "outputs_hidden": true
    }
   },
   "outputs": [],
   "source": [
    "import os\n",
    "import nbformat as nbf\n",
    "\n",
    "\n",
    "dirs = [\n",
    "    \"notebooks/data_exploration\",\n",
    "    \"notebooks/data_preprocessing\",\n",
    "    \"notebooks/modeling\",\n",
    "    \"notebooks/evaluation\"\n",
    "]\n",
    "\n",
    "for d in dirs:\n",
    "    os.makedirs(d, exist_ok=True)\n",
    "\n",
    "\n",
    "starter_notebooks = {\n",
    "    \"notebooks/data_exploration/01_exploratory_analysis.ipynb\":       \"Exploratory Data Analysis\",\n",
    "    \"notebooks/data_preprocessing/02_preprocessing_pipeline.ipynb\":   \"Preprocessing Pipeline\",\n",
    "    \"notebooks/modeling/03_model_training.ipynb\":                     \"Model Training\",\n",
    "    \"notebooks/evaluation/04_model_evaluation.ipynb\":                 \"Model Evaluation\"\n",
    "}\n",
    "\n",
    "for path, title in starter_notebooks.items():\n",
    "    if not os.path.exists(path):\n",
    "        nb = nbf.v4.new_notebook()\n",
    "        nb.cells.append(nbf.v4.new_markdown_cell(f\"# {title}\\n\\nDescripción: …\"))\n",
    "        with open(path, \"w\", encoding=\"utf-8\") as f:\n",
    "            nbf.write(nb, f)\n",
    "\n",
    "print(\"Estructura de notebooks y archivos iniciales creada.\") \n"
   ]
  },
  {
   "cell_type": "markdown",
   "id": "581cd7d3e77c41a2",
   "metadata": {
    "collapsed": false,
    "jupyter": {
     "outputs_hidden": false
    }
   },
   "source": [
    "# Notebooks del Proyecto\n",
    "\n",
    "- [Exploratory Analysis](./notebooks/data_exploration/01_exploratory_analysis.ipynb)\n",
    "- [Preprocessing Pipeline](./notebooks/data_preprocessing/02_preprocessing_pipeline.ipynb)\n",
    "- [Model Training](./notebooks/modeling/03_model_training.ipynb)\n",
    "- [Evaluation](./notebooks/evaluation/04_model_evaluation.ipynb)\n"
   ]
  }
 ],
 "metadata": {
  "kernelspec": {
   "display_name": "Python 3 (ipykernel)",
   "language": "python",
   "name": "python3"
  },
  "language_info": {
   "codemirror_mode": {
    "name": "ipython",
    "version": 3
   },
   "file_extension": ".py",
   "mimetype": "text/x-python",
   "name": "python",
   "nbconvert_exporter": "python",
   "pygments_lexer": "ipython3",
   "version": "3.13.3"
  }
 },
 "nbformat": 4,
 "nbformat_minor": 5
}
